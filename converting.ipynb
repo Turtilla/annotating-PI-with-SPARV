{
 "cells": [
  {
   "cell_type": "code",
   "execution_count": 123,
   "id": "fd3a0088",
   "metadata": {},
   "outputs": [],
   "source": [
    "\n",
    "import os\n",
    "import xml.etree.ElementTree as ET\n",
    "import re\n",
    "import json"
   ]
  },
  {
   "cell_type": "code",
   "execution_count": 124,
   "id": "67611fff",
   "metadata": {},
   "outputs": [],
   "source": [
    "files = os.listdir('./txt_data/')"
   ]
  },
  {
   "cell_type": "code",
   "execution_count": 125,
   "id": "1345cb1c",
   "metadata": {},
   "outputs": [],
   "source": [
    "def parse_xml(filename):\n",
    "    tree = ET.parse(filename)\n",
    "    root = tree.getroot()\n",
    "    \n",
    "    tokens_and_anns = []\n",
    "    for children in root:\n",
    "        for child in children:\n",
    "            tokens_and_anns.append((child.text, child.attrib))\n",
    "            \n",
    "    return tokens_and_anns"
   ]
  },
  {
   "cell_type": "code",
   "execution_count": 126,
   "id": "81e4a5bc",
   "metadata": {},
   "outputs": [],
   "source": [
    "\n",
    "def match_to_text(tokens_and_anns, filename):\n",
    "    with open(filename) as f:\n",
    "        text = f.read()\n",
    "    text = text.replace('\\\\', '')\n",
    "        \n",
    "    running_idx = 0\n",
    "    anns_to_keep = []    \n",
    "    \n",
    "    for token, ann in tokens_and_anns:\n",
    "        # if token in '[]\\{\\}()?*':\n",
    "        #     token = '\\\\'+token\n",
    "        # print(token, ann)\n",
    "        # search = re.search(token, text)\n",
    "        match_indices = [(m.start(0), m.end(0)) for m in re.finditer(re.escape(token), text)]\n",
    "        for indices in match_indices:\n",
    "            if indices[0] >= running_idx:\n",
    "                if ann['pi'] != 'O':\n",
    "                    anns_to_keep.append([indices[0], indices[1], ann['pi'], token])\n",
    "                running_idx = indices[1]\n",
    "                break\n",
    "        \n",
    "    return anns_to_keep"
   ]
  },
  {
   "cell_type": "code",
   "execution_count": 127,
   "id": "58f54a3b",
   "metadata": {},
   "outputs": [],
   "source": [
    "def get_for_all(filename_list):\n",
    "    filename_list = [file.removesuffix('.txt') for file in filename_list]\n",
    "    all_anns = []\n",
    "    \n",
    "    for filename in filename_list:\n",
    "        tokens_and_anns = parse_xml(os.path.join('./xml_data/', filename+'_export.xml'))\n",
    "        anns_to_keep = match_to_text(tokens_and_anns, os.path.join('./txt_data/', filename+'.txt'))\n",
    "        all_anns.append((filename, anns_to_keep))\n",
    "        \n",
    "    return all_anns"
   ]
  },
  {
   "cell_type": "code",
   "execution_count": 128,
   "id": "9f325e2e",
   "metadata": {},
   "outputs": [],
   "source": [
    "all_anns = get_for_all(files)"
   ]
  },
  {
   "cell_type": "code",
   "execution_count": 131,
   "id": "e1287dd7",
   "metadata": {},
   "outputs": [],
   "source": [
    "def create_jsons(all_anns):\n",
    "    all_jsons = []\n",
    "    for file, anns in all_anns:\n",
    "        with open(os.path.join('./txt_data/', file+'.txt')) as f:\n",
    "            text = f.read()\n",
    "        json_to_be = {\n",
    "            'id': file,\n",
    "            'text': text.replace('\\\\', ''),\n",
    "            'pair': \"\",\n",
    "            'lang': \"\",\n",
    "            'label': [ann[:3] for ann in anns],\n",
    "            'comments': [\"Generated using a BERT-based classifier.\"]\n",
    "        }\n",
    "        all_jsons.append(json_to_be)\n",
    "        \n",
    "        with open(os.path.join('./json_data/', file+'.json'), 'w', encoding='utf-8') as f:\n",
    "            json.dump(json_to_be, f, ensure_ascii=False)\n",
    "            \n",
    "    with open(os.path.join('./json_data/', 'bert_classifier.jsonl'), 'w', encoding='utf-8') as f:\n",
    "        for element in all_jsons:\n",
    "            json.dump(element, f, ensure_ascii=False)\n",
    "            f.write('\\n')        \n",
    "    \n",
    "    \n",
    "        \n",
    "        "
   ]
  },
  {
   "cell_type": "code",
   "execution_count": 132,
   "id": "7f8c6212",
   "metadata": {},
   "outputs": [],
   "source": [
    "create_jsons(all_anns)"
   ]
  }
 ],
 "metadata": {
  "kernelspec": {
   "display_name": "mormorenv",
   "language": "python",
   "name": "python3"
  },
  "language_info": {
   "codemirror_mode": {
    "name": "ipython",
    "version": 3
   },
   "file_extension": ".py",
   "mimetype": "text/x-python",
   "name": "python",
   "nbconvert_exporter": "python",
   "pygments_lexer": "ipython3",
   "version": "3.11.5"
  }
 },
 "nbformat": 4,
 "nbformat_minor": 5
}
